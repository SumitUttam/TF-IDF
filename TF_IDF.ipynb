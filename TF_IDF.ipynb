{
  "nbformat": 4,
  "nbformat_minor": 0,
  "metadata": {
    "colab": {
      "name": "TF-IDF",
      "provenance": [],
      "collapsed_sections": [],
      "authorship_tag": "ABX9TyM923IeTl4EBohQf0twXObi"
    },
    "kernelspec": {
      "name": "python3",
      "display_name": "Python 3"
    },
    "language_info": {
      "name": "python"
    }
  },
  "cells": [
    {
      "cell_type": "markdown",
      "metadata": {
        "id": "0MFhkE6KEsQz"
      },
      "source": [
        "#TF-IDF\n",
        "\n",
        "---\n",
        "\n",
        "##Importing necessary Libraries"
      ]
    },
    {
      "cell_type": "code",
      "metadata": {
        "id": "FyG4dIwkJmEM"
      },
      "source": [
        "# requirements\n",
        "!pip install num2words"
      ],
      "execution_count": 23,
      "outputs": []
    },
    {
      "cell_type": "code",
      "metadata": {
        "id": "JrVNKh5hD2Rw",
        "colab": {
          "base_uri": "https://localhost:8080/"
        },
        "outputId": "acf80a62-571c-4224-bede-da57d010c523"
      },
      "source": [
        "import re\n",
        "import nltk\n",
        "import math\n",
        "import num2words\n",
        "import pandas as pd;\n",
        "nltk.download('punkt')\n",
        "nltk.download('stopwords')"
      ],
      "execution_count": 24,
      "outputs": [
        {
          "output_type": "stream",
          "text": [
            "[nltk_data] Downloading package punkt to /root/nltk_data...\n",
            "[nltk_data]   Package punkt is already up-to-date!\n",
            "[nltk_data] Downloading package stopwords to /root/nltk_data...\n",
            "[nltk_data]   Package stopwords is already up-to-date!\n"
          ],
          "name": "stdout"
        },
        {
          "output_type": "execute_result",
          "data": {
            "text/plain": [
              "True"
            ]
          },
          "metadata": {
            "tags": []
          },
          "execution_count": 24
        }
      ]
    },
    {
      "cell_type": "markdown",
      "metadata": {
        "id": "EdbnIUZKErNO"
      },
      "source": [
        "## Tokenizer"
      ]
    },
    {
      "cell_type": "code",
      "metadata": {
        "id": "P7s3qAHIEmMm"
      },
      "source": [
        "porter_stemmer = nltk.stem.porter.PorterStemmer()\n",
        "\n",
        "\n",
        "def tokenize_Words(sentences):\n",
        "    punctuations=['+',',','?','!','/','@','#','$']\n",
        "    tokens=[]\n",
        "    for sentence in sentences:\n",
        "        words = nltk.word_tokenize(sentence)\t\n",
        "        words = map(lambda x:x.lower(),words)\n",
        "        filtered_words = [word for word in words if word not in nltk.corpus.stopwords.words('english')+punctuations]\n",
        "        stemmed_word=[porter_stemmer.stem(word) for word in filtered_words]\n",
        "        add_numbers=[num2words.num2words(int(words)) if words.isnumeric() else words for words in stemmed_word]\n",
        "        tokens.append(add_numbers)\n",
        "    return tokens\n",
        "\n"
      ],
      "execution_count": 25,
      "outputs": []
    },
    {
      "cell_type": "markdown",
      "metadata": {
        "id": "lsXPfO3BI-wr"
      },
      "source": [
        "## Import Dataset\n",
        "> Source: [Cricket Commentary - Kaggle](https://www.kaggle.com/shineucc/cricket-commentary)"
      ]
    },
    {
      "cell_type": "code",
      "metadata": {
        "colab": {
          "base_uri": "https://localhost:8080/",
          "height": 204
        },
        "id": "RJGU4yygJA2L",
        "outputId": "54948927-6a9e-4676-bd1a-00592f78c840"
      },
      "source": [
        "Dataframe = pd.read_csv('dataset.csv')\n",
        "\n",
        "Dataframe.head()"
      ],
      "execution_count": 26,
      "outputs": [
        {
          "output_type": "execute_result",
          "data": {
            "text/html": [
              "<div>\n",
              "<style scoped>\n",
              "    .dataframe tbody tr th:only-of-type {\n",
              "        vertical-align: middle;\n",
              "    }\n",
              "\n",
              "    .dataframe tbody tr th {\n",
              "        vertical-align: top;\n",
              "    }\n",
              "\n",
              "    .dataframe thead th {\n",
              "        text-align: right;\n",
              "    }\n",
              "</style>\n",
              "<table border=\"1\" class=\"dataframe\">\n",
              "  <thead>\n",
              "    <tr style=\"text-align: right;\">\n",
              "      <th></th>\n",
              "      <th>Sentence</th>\n",
              "    </tr>\n",
              "  </thead>\n",
              "  <tbody>\n",
              "    <tr>\n",
              "      <th>0</th>\n",
              "      <td>Jarvis to Jahurul Islam,FOUR,Off the mark in s...</td>\n",
              "    </tr>\n",
              "    <tr>\n",
              "      <th>1</th>\n",
              "      <td>Jarvis to Jahurul Islam,1 run,some away swing ...</td>\n",
              "    </tr>\n",
              "    <tr>\n",
              "      <th>2</th>\n",
              "      <td>Jarvis to Shahriar Nafees,no run,short of a go...</td>\n",
              "    </tr>\n",
              "    <tr>\n",
              "      <th>3</th>\n",
              "      <td>Jarvis to Shahriar Nafees,no run,bowls it full...</td>\n",
              "    </tr>\n",
              "    <tr>\n",
              "      <th>4</th>\n",
              "      <td>Jarvis to Shahriar Nafees,no run,width from Ja...</td>\n",
              "    </tr>\n",
              "  </tbody>\n",
              "</table>\n",
              "</div>"
            ],
            "text/plain": [
              "                                            Sentence\n",
              "0  Jarvis to Jahurul Islam,FOUR,Off the mark in s...\n",
              "1  Jarvis to Jahurul Islam,1 run,some away swing ...\n",
              "2  Jarvis to Shahriar Nafees,no run,short of a go...\n",
              "3  Jarvis to Shahriar Nafees,no run,bowls it full...\n",
              "4  Jarvis to Shahriar Nafees,no run,width from Ja..."
            ]
          },
          "metadata": {
            "tags": []
          },
          "execution_count": 26
        }
      ]
    },
    {
      "cell_type": "code",
      "metadata": {
        "id": "5JwcEby9Kc_9"
      },
      "source": [
        "sentences = Dataframe.iloc[:, 0].values\n",
        "sentences = [str(i) for i in sentences]\n",
        "sentences = [i.replace(',', ' ') for i in sentences]\n",
        "\n",
        "tokens = tokenize_Words(sentences)"
      ],
      "execution_count": 29,
      "outputs": []
    },
    {
      "cell_type": "markdown",
      "metadata": {
        "id": "hPj5hJ-4MFr3"
      },
      "source": [
        "## TF-IDF functions\n"
      ]
    },
    {
      "cell_type": "code",
      "metadata": {
        "id": "811m6EeIKr87"
      },
      "source": [
        "def tf(t, d):\n",
        "    return float(d.count(t)) / len(d)\n",
        "\n",
        "def idf(t):\n",
        "    c_doc = 0\n",
        "    for d in D:\n",
        "        if t in d:\n",
        "            c_doc += 1\t\t\t\n",
        "    return 0 if c_doc == 0 else math.log(len(D)/float(c_doc))\n",
        "\n",
        "def tf_idf(q, d, op):\n",
        "    if op=='and':\t\n",
        "        if len(set(q).intersection(d))==len(set(q)):\n",
        "            ans = 0\n",
        "            for t in q:\n",
        "                ans += (tf(t, d) * idf(t))\t\t\t\n",
        "            return  ans\n",
        "        else:\n",
        "            return 0\n",
        "    else:\n",
        "        ans = 0\n",
        "        for t in q:\n",
        "            ans += (tf(t, d) * idf(t))\n",
        "        return  ans"
      ],
      "execution_count": 30,
      "outputs": []
    },
    {
      "cell_type": "markdown",
      "metadata": {
        "id": "lqTyoWePMMii"
      },
      "source": [
        "##Driver Code"
      ]
    },
    {
      "cell_type": "code",
      "metadata": {
        "colab": {
          "base_uri": "https://localhost:8080/"
        },
        "id": "gMnOeMr4MO6M",
        "outputId": "0c131171-6fe5-4c8e-c56c-6722b153f3dc"
      },
      "source": [
        "while True:\n",
        "    query = input('\\nenter query string or \\'q\\' to quit:\\n')\n",
        "\n",
        "    if query=='q':\n",
        "        break\n",
        "\n",
        "    if query.startswith('\"'):\n",
        "        op='and'\t\n",
        "    else:\n",
        "        op='or'\t\n",
        "\n",
        "    query=re.sub(r'[#+?!\"/@$,]',' ',query)\n",
        "    query = tokenize_Words([query])\n",
        "\n",
        "    scores = dict()\n",
        "    i = 0\n",
        "\n",
        "    for d in tokens:\n",
        "        sc=tf_idf(query[0],d,op)\t\n",
        "        if sc!=0:\n",
        "            scores[i] = sc\n",
        "        i += 1\n",
        "\n",
        "    if len(scores)==0:\n",
        "        print ('Matches not Found')\n",
        "    else:\n",
        "        top_docs=sorted(scores, key=scores.get, reverse=True)[:10]\n",
        "        rank = 1\n",
        "        for doc in top_docs:\n",
        "            print (f'\\nrank: {rank} score: {scores[doc]}')\n",
        "            print( sentences[doc].strip())\n",
        "            rank+=1\n"
      ],
      "execution_count": 33,
      "outputs": [
        {
          "output_type": "stream",
          "text": [
            "\n",
            "enter query string or 'q' to quit:\n",
            "driven through midwicket\n",
            "\n",
            "rank: 1 score: 0.6440826208374175\n",
            "Southee to Cook no run driven to cover\n",
            "\n",
            "rank: 2 score: 0.6440826208374175\n",
            "Southee to Trott no run driven into the covers\n",
            "\n",
            "rank: 3 score: 0.5367355173645145\n",
            "Broad to Rogers no run driven back down the pitch\n",
            "\n",
            "rank: 4 score: 0.4600590148838696\n",
            "Broad to Williamson no run full just outside off  driven to mid off\n",
            "\n",
            "rank: 5 score: 0.4600590148838696\n",
            "Bracewell to Cook no run full outside off and driven to mid-off\n",
            "\n",
            "rank: 6 score: 0.4600590148838696\n",
            "Wagner to Trott no run full on off stump  driven to cover\n",
            "\n",
            "rank: 7 score: 0.4025516380233859\n",
            "Swann to Brownlie no run tossed up and full  driven back to the bowler\n",
            "\n",
            "rank: 8 score: 0.4025516380233859\n",
            "Finn to McCullum no run full and just outside off  driven solidly to mid off\n",
            "\n",
            "rank: 9 score: 0.4025516380233859\n",
            "Williamson to Cook 1 run tossed up outside off  driven to cover\n",
            "\n",
            "rank: 10 score: 0.4025516380233859\n",
            "Wagner to Trott no run pushed across on off stump  driven to cover\n",
            "\n",
            "enter query string or 'q' to quit:\n",
            "driven through midwicket for couple of runs\n",
            "\n",
            "rank: 1 score: 0.6557855636497029\n",
            "Southee to Cook no run driven to cover\n",
            "\n",
            "rank: 2 score: 0.6557855636497029\n",
            "Southee to Trott no run driven into the covers\n",
            "\n",
            "rank: 3 score: 0.5776255077908229\n",
            "Jarvis to Jahurul Islam 2 runs ooh  swing there  turns out to be too full and that's driven through midwicket for a couple of runs\n",
            "\n",
            "rank: 4 score: 0.5464879697080857\n",
            "Broad to Rogers no run driven back down the pitch\n",
            "\n",
            "rank: 5 score: 0.4807829290823007\n",
            "Anderson to Rogers 2 runs too straight and tucked off the pads through midwicket  an easy couple\n",
            "\n",
            "rank: 6 score: 0.4684182597497877\n",
            "Broad to Williamson no run full just outside off  driven to mid off\n",
            "\n",
            "rank: 7 score: 0.4684182597497877\n",
            "Bracewell to Cook no run full outside off and driven to mid-off\n",
            "\n",
            "rank: 8 score: 0.4684182597497877\n",
            "Wagner to Trott no run full on off stump  driven to cover\n",
            "\n",
            "rank: 9 score: 0.4370753900748188\n",
            "Broad to Williamson 2 runs little too straight and tucked past midwicket so they get a couple\n",
            "\n",
            "rank: 10 score: 0.4098659772810642\n",
            "Swann to Brownlie no run tossed up and full  driven back to the bowler\n",
            "\n",
            "enter query string or 'q' to quit:\n",
            "q\n"
          ],
          "name": "stdout"
        }
      ]
    },
    {
      "cell_type": "code",
      "metadata": {
        "id": "wDg4_H-aMaLn"
      },
      "source": [
        ""
      ],
      "execution_count": null,
      "outputs": []
    }
  ]
}