{
  "nbformat": 4,
  "nbformat_minor": 0,
  "metadata": {
    "colab": {
      "name": "TF-IDF",
      "provenance": [],
      "authorship_tag": "ABX9TyNl7Wzqq/uWwZG+dVytXDpa"
    },
    "kernelspec": {
      "name": "python3",
      "display_name": "Python 3"
    },
    "language_info": {
      "name": "python"
    }
  },
  "cells": [
    {
      "cell_type": "markdown",
      "metadata": {
        "id": "0MFhkE6KEsQz"
      },
      "source": [
        "#TF-IDF\n",
        "\n",
        "---\n",
        "\n",
        "##Importing necessary Libraries"
      ]
    },
    {
      "cell_type": "code",
      "metadata": {
        "id": "FyG4dIwkJmEM"
      },
      "source": [
        "# requirements\n",
        "!pip install num2words"
      ],
      "execution_count": null,
      "outputs": []
    },
    {
      "cell_type": "code",
      "metadata": {
        "id": "JrVNKh5hD2Rw",
        "colab": {
          "base_uri": "https://localhost:8080/"
        },
        "outputId": "018fc192-0aa8-4b44-f5a1-95b04993e653"
      },
      "source": [
        "import re\n",
        "import nltk\n",
        "import num2words\n",
        "import pandas as pd;\n",
        "nltk.download('punkt')\n",
        "nltk.download('stopwords')"
      ],
      "execution_count": 4,
      "outputs": [
        {
          "output_type": "stream",
          "text": [
            "[nltk_data] Downloading package punkt to /root/nltk_data...\n",
            "[nltk_data]   Unzipping tokenizers/punkt.zip.\n",
            "[nltk_data] Downloading package stopwords to /root/nltk_data...\n",
            "[nltk_data]   Unzipping corpora/stopwords.zip.\n"
          ],
          "name": "stdout"
        },
        {
          "output_type": "execute_result",
          "data": {
            "text/plain": [
              "True"
            ]
          },
          "metadata": {
            "tags": []
          },
          "execution_count": 4
        }
      ]
    },
    {
      "cell_type": "markdown",
      "metadata": {
        "id": "EdbnIUZKErNO"
      },
      "source": [
        "## Tokenizer"
      ]
    },
    {
      "cell_type": "code",
      "metadata": {
        "id": "P7s3qAHIEmMm"
      },
      "source": [
        "porter_stemmer = nltk.stem.porter.PorterStemmer()\n",
        "\n",
        "\n",
        "def tokenize_Words(sentences):\n",
        "    punctuations=['+',',','?','!','/','@','#','$']\n",
        "    tokens=[]\n",
        "    for sentence in sentences:\n",
        "        words = nltk.word_tokenize(sentence)\t\n",
        "        words = map(lambda x:x.lower(),words)\n",
        "        filtered_words = [word for word in words if word not in nltk.corpus.stopwords.words('english')+punctuations]\n",
        "        stemmed_word=[porter_stemmer.stem(word) for word in filtered_words]\n",
        "        add_numbers=[num2words.num2words(int(words)) if words.isnumeric() else words for words in stemmed_word]\n",
        "        tokens.append(add_numbers)\n",
        "    return tokens\n",
        "\n"
      ],
      "execution_count": 5,
      "outputs": []
    },
    {
      "cell_type": "markdown",
      "metadata": {
        "id": "lsXPfO3BI-wr"
      },
      "source": [
        "## Import Dataset\n",
        "> Source: [Cricket Commentary - Kaggle](https://www.kaggle.com/shineucc/cricket-commentary)"
      ]
    },
    {
      "cell_type": "code",
      "metadata": {
        "colab": {
          "base_uri": "https://localhost:8080/",
          "height": 204
        },
        "id": "RJGU4yygJA2L",
        "outputId": "1d70f7ea-2b6a-4490-8013-502f1e7b52b1"
      },
      "source": [
        "Dataframe = pd.read_csv('dataset.csv')\n",
        "\n",
        "Dataframe.head()"
      ],
      "execution_count": 7,
      "outputs": [
        {
          "output_type": "execute_result",
          "data": {
            "text/html": [
              "<div>\n",
              "<style scoped>\n",
              "    .dataframe tbody tr th:only-of-type {\n",
              "        vertical-align: middle;\n",
              "    }\n",
              "\n",
              "    .dataframe tbody tr th {\n",
              "        vertical-align: top;\n",
              "    }\n",
              "\n",
              "    .dataframe thead th {\n",
              "        text-align: right;\n",
              "    }\n",
              "</style>\n",
              "<table border=\"1\" class=\"dataframe\">\n",
              "  <thead>\n",
              "    <tr style=\"text-align: right;\">\n",
              "      <th></th>\n",
              "      <th>Unnamed: 0</th>\n",
              "      <th>description</th>\n",
              "      <th>tags</th>\n",
              "    </tr>\n",
              "  </thead>\n",
              "  <tbody>\n",
              "    <tr>\n",
              "      <th>0</th>\n",
              "      <td>0</td>\n",
              "      <td>wankhedes notorious reputation for being a cha...</td>\n",
              "      <td>sports mumbai rahane ball bat chasing over thi...</td>\n",
              "    </tr>\n",
              "    <tr>\n",
              "      <th>1</th>\n",
              "      <td>1</td>\n",
              "      <td>pandya to rahane no run picks a short of lengt...</td>\n",
              "      <td>sports length delivery delivery leg short wris...</td>\n",
              "    </tr>\n",
              "    <tr>\n",
              "      <th>2</th>\n",
              "      <td>2</td>\n",
              "      <td>harbhajan to rahane no run pushes it quick jus...</td>\n",
              "      <td>sports shreyas gopal drifter cricket in india ...</td>\n",
              "    </tr>\n",
              "    <tr>\n",
              "      <th>3</th>\n",
              "      <td>3</td>\n",
              "      <td>shreyas gopal to pietersen leg byes one run sp...</td>\n",
              "      <td>sports cut pietersen shot off leg foot cut sho...</td>\n",
              "    </tr>\n",
              "    <tr>\n",
              "      <th>4</th>\n",
              "      <td>4</td>\n",
              "      <td>shreyas gopal to rahane no run on the stumps n...</td>\n",
              "      <td>sports foot cut ravi shaz kp pitch over off sh...</td>\n",
              "    </tr>\n",
              "  </tbody>\n",
              "</table>\n",
              "</div>"
            ],
            "text/plain": [
              "   Unnamed: 0  ...                                               tags\n",
              "0           0  ...  sports mumbai rahane ball bat chasing over thi...\n",
              "1           1  ...  sports length delivery delivery leg short wris...\n",
              "2           2  ...  sports shreyas gopal drifter cricket in india ...\n",
              "3           3  ...  sports cut pietersen shot off leg foot cut sho...\n",
              "4           4  ...  sports foot cut ravi shaz kp pitch over off sh...\n",
              "\n",
              "[5 rows x 3 columns]"
            ]
          },
          "metadata": {
            "tags": []
          },
          "execution_count": 7
        }
      ]
    },
    {
      "cell_type": "code",
      "metadata": {
        "id": "5JwcEby9Kc_9"
      },
      "source": [
        "sentences = Dataframe.iloc[:, 1].values\n",
        "sentences = [str(i) for i in sentences]\n",
        "sentences = [i.replace(',', ' ') for i in sentences]\n",
        "\n",
        "tokens = tokenize_Words(sentences)"
      ],
      "execution_count": 17,
      "outputs": []
    },
    {
      "cell_type": "markdown",
      "metadata": {
        "id": "hPj5hJ-4MFr3"
      },
      "source": [
        "## TF-IDF functions\n"
      ]
    },
    {
      "cell_type": "code",
      "metadata": {
        "id": "811m6EeIKr87"
      },
      "source": [
        "def tf(t, d):\n",
        "    return float(d.count(t)) / len(d)\n",
        "\n",
        "def idf(t):\n",
        "    c_doc = 0\n",
        "    for d in D:\n",
        "        if t in d:\n",
        "            c_doc += 1\t\t\t\n",
        "    return 0 if c_doc == 0 else math.log(len(D)/float(c_doc))\n",
        "\n",
        "def tf_idf(q, d, op):\n",
        "    if op=='and':\t\n",
        "        if len(set(q).intersection(d))==len(set(q)):\n",
        "            ans = 0\n",
        "            for t in q:\n",
        "                ans += (tf(t, d) * idf(t))\t\t\t\n",
        "            return  ans\n",
        "        else:\n",
        "            return 0\n",
        "    else:\n",
        "        ans = 0\n",
        "        for t in q:\n",
        "            ans += (tf(t, d) * idf(t))\n",
        "        return  ans"
      ],
      "execution_count": 18,
      "outputs": []
    },
    {
      "cell_type": "markdown",
      "metadata": {
        "id": "lqTyoWePMMii"
      },
      "source": [
        "##Driver Code"
      ]
    },
    {
      "cell_type": "code",
      "metadata": {
        "colab": {
          "base_uri": "https://localhost:8080/"
        },
        "id": "gMnOeMr4MO6M",
        "outputId": "5c700c35-4689-4947-a175-b45b2fe3e0c6"
      },
      "source": [
        "import math\n",
        "\n",
        "while True:\n",
        "    query = input('\\nenter query string or \\'q\\' to quit:\\n')\n",
        "\n",
        "    if query=='q':\n",
        "        break\n",
        "\n",
        "    if query.startswith('\"'):\n",
        "        op='and'\t\n",
        "    else:\n",
        "        op='or'\t\n",
        "\n",
        "    query=re.sub(r'[#+?!\"/@$,]',' ',query)\n",
        "    query = tokenize_Words([query])\n",
        "\n",
        "    scores = dict()\n",
        "    i = 0\n",
        "\n",
        "    for d in tokens:\n",
        "        sc=tf_idf(query[0],d,op)\t\n",
        "        if sc!=0:\n",
        "            scores[i] = sc\n",
        "        i += 1\n",
        "\n",
        "    if len(scores)==0:\n",
        "        print ('Matches not Found')\n",
        "    else:\n",
        "        top_docs=sorted(scores, key=scores.get, reverse=True)[:10]\n",
        "        rank = 1\n",
        "        for doc in top_docs:\n",
        "            print (f'\\nrank: {rank} score: {scores[doc]}')\n",
        "            print( dataset_lines[doc].strip())\n",
        "            rank+=1\n"
      ],
      "execution_count": null,
      "outputs": [
        {
          "output_type": "stream",
          "text": [
            "\n",
            "enter query string or 'q' to quit:\n",
            "pandya to rahane no run picks a short of length delivery from outside off and twirls his wrists but a good stop from rayudu at midwicket stops the single hardik pandya \n"
          ],
          "name": "stdout"
        }
      ]
    },
    {
      "cell_type": "code",
      "metadata": {
        "id": "wDg4_H-aMaLn"
      },
      "source": [
        ""
      ],
      "execution_count": null,
      "outputs": []
    }
  ]
}